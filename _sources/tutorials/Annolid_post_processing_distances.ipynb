{
  "cells": [
    {
      "cell_type": "markdown",
      "metadata": {
        "id": "lyy2TrvB_bck"
      },
      "source": [
        "<a href=\"https://colab.research.google.com/github/healthonrails/annolid/blob/main/docs/tutorials/Annolid_post_processing_distances.ipynb\" target=\"_blank\"><img src=\"https://colab.research.google.com/assets/colab-badge.svg\" alt=\"Open In Colab\"/></a>"
      ]
    },
    {
      "cell_type": "markdown",
      "metadata": {
        "id": "GGbgnKlW_KuL"
      },
      "source": [
        "## Calculate distances for a pair of instances in the same frame or the same instance across frames"
      ]
    },
    {
      "cell_type": "code",
      "execution_count": null,
      "metadata": {
        "id": "42_T4PR3kKBB"
      },
      "outputs": [],
      "source": [
        "import pandas as pd\n",
        "import numpy as np\n",
        "from google.colab import data_table"
      ]
    },
    {
      "cell_type": "code",
      "execution_count": null,
      "metadata": {
        "id": "YwXnZ9REpJhu"
      },
      "outputs": [],
      "source": [
        "!pip install gradio"
      ]
    },
    {
      "cell_type": "code",
      "execution_count": null,
      "metadata": {
        "id": "4o7BdVrYpTpC"
      },
      "outputs": [],
      "source": [
        "import gradio as gr"
      ]
    },
    {
      "cell_type": "code",
      "execution_count": null,
      "metadata": {
        "id": "bo5do0ofk13h"
      },
      "outputs": [],
      "source": [
        "data_table.enable_dataframe_formatter()"
      ]
    },
    {
      "cell_type": "code",
      "execution_count": 1,
      "metadata": {
        "id": "aYdRn8L_kUCv"
      },
      "outputs": [],
      "source": [
        "CSV_FILE = '/content/mask_rcnn_tracking_results_with_segmenation.csv'"
      ]
    },
    {
      "cell_type": "code",
      "execution_count": null,
      "metadata": {
        "id": "1rbhNyrMkON6"
      },
      "outputs": [],
      "source": [
        "df = pd.read_csv(CSV_FILE)"
      ]
    },
    {
      "cell_type": "code",
      "execution_count": null,
      "metadata": {
        "id": "KixXR8GYkoeo"
      },
      "outputs": [],
      "source": [
        "df.head()"
      ]
    },
    {
      "cell_type": "markdown",
      "metadata": {
        "id": "DDv545lblmG2"
      },
      "source": [
        "## Calculate the distance of a pair of instances in a given frame\n",
        "\n",
        "---"
      ]
    },
    {
      "cell_type": "code",
      "execution_count": null,
      "metadata": {
        "id": "Avjf9-6jk-0K"
      },
      "outputs": [],
      "source": [
        "def paired_distance(frame_number,\n",
        "                    this_instance='Female_98',\n",
        "                    other_instance='Male_109'):\n",
        "    df_dis = df[df[\"frame_number\"]==frame_number][['cx','cy','instance_name']]\n",
        "    df_this = df_dis[df_dis.instance_name == this_instance]\n",
        "    df_other = df_dis[df_dis.instance_name == other_instance]\n",
        "    try:\n",
        "      dist = np.linalg.norm(df_this[['cx','cy']].values-df_other[['cx','cy']].values)\n",
        "    except:\n",
        "      dist = None\n",
        "\n",
        "\n",
        "    return dist"
      ]
    },
    {
      "cell_type": "code",
      "execution_count": null,
      "metadata": {
        "id": "4xvmtCNUlqPp"
      },
      "outputs": [],
      "source": [
        "paired_distance(0,'Female_98','Male_109')"
      ]
    },
    {
      "cell_type": "code",
      "execution_count": null,
      "metadata": {
        "id": "3jDdZwwjskuG"
      },
      "outputs": [],
      "source": [
        "instance_names = list(df.instance_name.unique())"
      ]
    },
    {
      "cell_type": "code",
      "execution_count": null,
      "metadata": {
        "id": "BSg6qVAtp5YX"
      },
      "outputs": [],
      "source": [
        "iface = gr.Interface(paired_distance,\n",
        "                     [\n",
        "                         gr.inputs.Number(),\n",
        "                         gr.inputs.Dropdown(instance_names),\n",
        "                         gr.inputs.Dropdown(instance_names),\n",
        "\n",
        "                     ],\n",
        "                     [\n",
        "                         gr.outputs.Label(label=\"Paired Distance\"),\n",
        "                     ]\n",
        "                     )\n",
        "iface.launch()"
      ]
    },
    {
      "cell_type": "markdown",
      "metadata": {
        "id": "cK8W0qrNmlCl"
      },
      "source": [
        "## Calculate the distance of the instance from the previous frame to the current frame"
      ]
    },
    {
      "cell_type": "code",
      "execution_count": null,
      "metadata": {
        "id": "HjsP2sxFmB9i"
      },
      "outputs": [],
      "source": [
        "def instance_distance_between_frame(frame_number,\n",
        "                                    instance_name='Female_86'):\n",
        "    if frame_number < 1:\n",
        "      return 0\n",
        "    previous_frame_number = frame_number - 1\n",
        "    df_dis = df[df[\"frame_number\"]==frame_number][['cx','cy','instance_name']]\n",
        "    df_dis_prev = df[df[\"frame_number\"]==previous_frame_number][['cx','cy','instance_name']]\n",
        "    df_dis = df_dis[df_dis.instance_name == instance_name]\n",
        "    df_dis_prev = df_dis_prev[df_dis_prev.instance_name == instance_name]\n",
        "\n",
        "    try:\n",
        "      dist = np.linalg.norm(df_dis[['cx','cy']].values-df_dis_prev[['cx','cy']].values)\n",
        "    except:\n",
        "      dist = None\n",
        "    \n",
        "    return dist\n",
        "    "
      ]
    },
    {
      "cell_type": "code",
      "execution_count": null,
      "metadata": {
        "id": "Xzes-ShfmqHa"
      },
      "outputs": [],
      "source": [
        "df['dist_from_previous_frame_female_86'] = df.frame_number.apply(instance_distance_between_frame,instance_name='Female_86')"
      ]
    },
    {
      "cell_type": "code",
      "execution_count": null,
      "metadata": {
        "id": "GOxkT5FbCf_d"
      },
      "outputs": [],
      "source": [
        "df['dist_from_previous_frame_female_86'].describe()"
      ]
    },
    {
      "cell_type": "markdown",
      "metadata": {
        "id": "jVJ9YHznnBkj"
      },
      "source": [
        "## The total distance traveled for instance female_86 in in pixels"
      ]
    },
    {
      "cell_type": "code",
      "execution_count": null,
      "metadata": {
        "id": "CTFCNUvSmtu7"
      },
      "outputs": [],
      "source": [
        "df['dist_from_previous_frame_female_86'].sum()"
      ]
    },
    {
      "cell_type": "code",
      "execution_count": null,
      "metadata": {
        "id": "tBNYddKADHZ_"
      },
      "outputs": [],
      "source": [
        "df['dist_from_previous_frame_male_109']= df.frame_number.apply(instance_distance_between_frame, instance_name='Male_109')"
      ]
    },
    {
      "cell_type": "code",
      "execution_count": null,
      "metadata": {
        "id": "ng9WyC89FK89"
      },
      "outputs": [],
      "source": [
        "df['dist_from_previous_frame_male_109'].sum()"
      ]
    },
    {
      "cell_type": "code",
      "execution_count": null,
      "metadata": {
        "id": "2uvk_bHnFXY9"
      },
      "outputs": [],
      "source": [
        "df['dist_from_previous_frame_female_98']= df.frame_number.apply(instance_distance_between_frame, instance_name='Female_98')"
      ]
    },
    {
      "cell_type": "code",
      "execution_count": null,
      "metadata": {
        "id": "-MjibTPIHTIZ"
      },
      "outputs": [],
      "source": [
        "df['dist_from_previous_frame_female_98'].sum()"
      ]
    },
    {
      "cell_type": "code",
      "execution_count": null,
      "metadata": {
        "id": "XKhGG8R3n9Tx"
      },
      "outputs": [],
      "source": [
        "import plotly.express as px\n",
        "import plotly.graph_objects as go"
      ]
    },
    {
      "cell_type": "code",
      "execution_count": null,
      "metadata": {
        "id": "Yx9ufLOqnFXu"
      },
      "outputs": [],
      "source": [
        "\n",
        "fig = px.line(x=df.frame_number, y=df.dist_from_previous_frame_female_86, labels={'x':'frame_number', 'y':'dist from previous frame female_86'})\n",
        "fig.show()"
      ]
    },
    {
      "cell_type": "markdown",
      "metadata": {
        "id": "CLW3u9FDyBGL"
      },
      "source": [
        "## Distance between two instances e.g. female_98 and male_109 in pixels"
      ]
    },
    {
      "cell_type": "code",
      "execution_count": null,
      "metadata": {
        "id": "eDyvAcrwyBiJ"
      },
      "outputs": [],
      "source": [
        "df['dist_frog__female_98_male_109'] = df.frame_number.apply(paired_distance)"
      ]
    },
    {
      "cell_type": "code",
      "execution_count": null,
      "metadata": {
        "id": "aSPX55XNyHxH"
      },
      "outputs": [],
      "source": [
        "\n",
        "fig = px.line(x=df.frame_number, y=df.dist_frog__female_98_male_109, labels={'x':'frame_number', 'y':'distance between frog male in tank 2 to frog female in tank 2'})\n",
        "fig.show()"
      ]
    }
  ],
  "metadata": {
    "colab": {
      "collapsed_sections": [],
      "name": "Annolid_post_processing_distances.ipynb",
      "provenance": []
    },
    "interpreter": {
      "hash": "1a665fa99de423533c7bb12d3895f32d4e7f0ff4cffb69dd14bc2ab1d9349c2a"
    },
    "kernelspec": {
      "display_name": "Python 3.7.6 64-bit ('ceed': conda)",
      "name": "python3"
    },
    "language_info": {
      "codemirror_mode": {
        "name": "ipython",
        "version": 3
      },
      "file_extension": ".py",
      "mimetype": "text/x-python",
      "name": "python",
      "nbconvert_exporter": "python",
      "pygments_lexer": "ipython3",
      "version": "3.7.6"
    }
  },
  "nbformat": 4,
  "nbformat_minor": 0
}
